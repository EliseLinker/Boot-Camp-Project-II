{
 "cells": [
  {
   "cell_type": "code",
   "execution_count": 4,
   "metadata": {
    "collapsed": true
   },
   "outputs": [],
   "source": [
    "import pickle\n",
    "from sklearn.feature_extraction.text import TfidfVectorizer\n",
    "import seaborn as sns\n",
    "from sklearn.cluster import KMeans\n",
    "from sklearn.preprocessing import StandardScaler\n",
    "from sklearn.preprocessing import LabelEncoder, OneHotEncoder\n",
    "import pandas as pd\n",
    "import numpy as np\n",
    "import matplotlib.pyplot as plt"
   ]
  },
  {
   "cell_type": "code",
   "execution_count": 3,
   "metadata": {},
   "outputs": [
    {
     "data": {
      "text/html": [
       "<div>\n",
       "<style scoped>\n",
       "    .dataframe tbody tr th:only-of-type {\n",
       "        vertical-align: middle;\n",
       "    }\n",
       "\n",
       "    .dataframe tbody tr th {\n",
       "        vertical-align: top;\n",
       "    }\n",
       "\n",
       "    .dataframe thead th {\n",
       "        text-align: right;\n",
       "    }\n",
       "</style>\n",
       "<table border=\"1\" class=\"dataframe\">\n",
       "  <thead>\n",
       "    <tr style=\"text-align: right;\">\n",
       "      <th></th>\n",
       "      <th>points</th>\n",
       "      <th>title</th>\n",
       "      <th>description</th>\n",
       "      <th>taster_name</th>\n",
       "      <th>taster_twitter_handle</th>\n",
       "      <th>price</th>\n",
       "      <th>designation</th>\n",
       "      <th>variety</th>\n",
       "      <th>region_1</th>\n",
       "      <th>region_2</th>\n",
       "      <th>province</th>\n",
       "      <th>country</th>\n",
       "      <th>winery</th>\n",
       "    </tr>\n",
       "  </thead>\n",
       "  <tbody>\n",
       "    <tr>\n",
       "      <th>0</th>\n",
       "      <td>87</td>\n",
       "      <td>Quinta dos Avidagos 2011 Avidagos Red (Douro)</td>\n",
       "      <td>This is ripe and fruity, a wine that is smooth...</td>\n",
       "      <td>Roger Voss</td>\n",
       "      <td>@vossroger</td>\n",
       "      <td>15.0</td>\n",
       "      <td>Avidagos</td>\n",
       "      <td>Portuguese Red</td>\n",
       "      <td>NaN</td>\n",
       "      <td>NaN</td>\n",
       "      <td>Douro</td>\n",
       "      <td>Portugal</td>\n",
       "      <td>Quinta dos Avidagos</td>\n",
       "    </tr>\n",
       "    <tr>\n",
       "      <th>1</th>\n",
       "      <td>87</td>\n",
       "      <td>Rainstorm 2013 Pinot Gris (Willamette Valley)</td>\n",
       "      <td>Tart and snappy, the flavors of lime flesh and...</td>\n",
       "      <td>Paul Gregutt</td>\n",
       "      <td>@paulgwine</td>\n",
       "      <td>14.0</td>\n",
       "      <td>NaN</td>\n",
       "      <td>Pinot Gris</td>\n",
       "      <td>Willamette Valley</td>\n",
       "      <td>Willamette Valley</td>\n",
       "      <td>Oregon</td>\n",
       "      <td>US</td>\n",
       "      <td>Rainstorm</td>\n",
       "    </tr>\n",
       "    <tr>\n",
       "      <th>2</th>\n",
       "      <td>87</td>\n",
       "      <td>St. Julian 2013 Reserve Late Harvest Riesling ...</td>\n",
       "      <td>Pineapple rind, lemon pith and orange blossom ...</td>\n",
       "      <td>Alexander Peartree</td>\n",
       "      <td>NaN</td>\n",
       "      <td>13.0</td>\n",
       "      <td>Reserve Late Harvest</td>\n",
       "      <td>Riesling</td>\n",
       "      <td>Lake Michigan Shore</td>\n",
       "      <td>NaN</td>\n",
       "      <td>Michigan</td>\n",
       "      <td>US</td>\n",
       "      <td>St. Julian</td>\n",
       "    </tr>\n",
       "    <tr>\n",
       "      <th>3</th>\n",
       "      <td>87</td>\n",
       "      <td>Sweet Cheeks 2012 Vintner's Reserve Wild Child...</td>\n",
       "      <td>Much like the regular bottling from 2012, this...</td>\n",
       "      <td>Paul Gregutt</td>\n",
       "      <td>@paulgwine</td>\n",
       "      <td>65.0</td>\n",
       "      <td>Vintner's Reserve Wild Child Block</td>\n",
       "      <td>Pinot Noir</td>\n",
       "      <td>Willamette Valley</td>\n",
       "      <td>Willamette Valley</td>\n",
       "      <td>Oregon</td>\n",
       "      <td>US</td>\n",
       "      <td>Sweet Cheeks</td>\n",
       "    </tr>\n",
       "    <tr>\n",
       "      <th>4</th>\n",
       "      <td>87</td>\n",
       "      <td>Tandem 2011 Ars In Vitro Tempranillo-Merlot (N...</td>\n",
       "      <td>Blackberry and raspberry aromas show a typical...</td>\n",
       "      <td>Michael Schachner</td>\n",
       "      <td>@wineschach</td>\n",
       "      <td>15.0</td>\n",
       "      <td>Ars In Vitro</td>\n",
       "      <td>Tempranillo-Merlot</td>\n",
       "      <td>Navarra</td>\n",
       "      <td>NaN</td>\n",
       "      <td>Northern Spain</td>\n",
       "      <td>Spain</td>\n",
       "      <td>Tandem</td>\n",
       "    </tr>\n",
       "  </tbody>\n",
       "</table>\n",
       "</div>"
      ],
      "text/plain": [
       "   points                                              title  \\\n",
       "0      87      Quinta dos Avidagos 2011 Avidagos Red (Douro)   \n",
       "1      87      Rainstorm 2013 Pinot Gris (Willamette Valley)   \n",
       "2      87  St. Julian 2013 Reserve Late Harvest Riesling ...   \n",
       "3      87  Sweet Cheeks 2012 Vintner's Reserve Wild Child...   \n",
       "4      87  Tandem 2011 Ars In Vitro Tempranillo-Merlot (N...   \n",
       "\n",
       "                                         description         taster_name  \\\n",
       "0  This is ripe and fruity, a wine that is smooth...          Roger Voss   \n",
       "1  Tart and snappy, the flavors of lime flesh and...        Paul Gregutt   \n",
       "2  Pineapple rind, lemon pith and orange blossom ...  Alexander Peartree   \n",
       "3  Much like the regular bottling from 2012, this...        Paul Gregutt   \n",
       "4  Blackberry and raspberry aromas show a typical...   Michael Schachner   \n",
       "\n",
       "  taster_twitter_handle  price                         designation  \\\n",
       "0            @vossroger   15.0                            Avidagos   \n",
       "1           @paulgwine    14.0                                 NaN   \n",
       "2                   NaN   13.0                Reserve Late Harvest   \n",
       "3           @paulgwine    65.0  Vintner's Reserve Wild Child Block   \n",
       "4           @wineschach   15.0                        Ars In Vitro   \n",
       "\n",
       "              variety             region_1           region_2        province  \\\n",
       "0      Portuguese Red                  NaN                NaN           Douro   \n",
       "1          Pinot Gris    Willamette Valley  Willamette Valley          Oregon   \n",
       "2            Riesling  Lake Michigan Shore                NaN        Michigan   \n",
       "3          Pinot Noir    Willamette Valley  Willamette Valley          Oregon   \n",
       "4  Tempranillo-Merlot              Navarra                NaN  Northern Spain   \n",
       "\n",
       "    country               winery  \n",
       "0  Portugal  Quinta dos Avidagos  \n",
       "1        US            Rainstorm  \n",
       "2        US           St. Julian  \n",
       "3        US         Sweet Cheeks  \n",
       "4     Spain               Tandem  "
      ]
     },
     "execution_count": 3,
     "metadata": {},
     "output_type": "execute_result"
    }
   ],
   "source": [
    "#Import data\n",
    "wine_df = pd.read_csv('winemag.csv')\n",
    "wine_df.head(5)"
   ]
  },
  {
   "cell_type": "code",
   "execution_count": 5,
   "metadata": {},
   "outputs": [
    {
     "name": "stderr",
     "output_type": "stream",
     "text": [
      "/Users/alexandriacabello/anaconda3/lib/python3.6/site-packages/seaborn/categorical.py:1460: FutureWarning: remove_na is deprecated and is a private function. Do not use.\n",
      "  stat_data = remove_na(group_data)\n"
     ]
    },
    {
     "data": {
      "image/png": "[encoded data removed]",
      "text/plain": [
       "<matplotlib.figure.Figure at 0x1170c9a20>"
      ]
     },
     "metadata": {},
     "output_type": "display_data"
    }
   ],
   "source": [
    "v_df = wine_df.groupby('variety').filter(lambda x: len(x) > 2200)\n",
    "varieties = v_df['variety'].value_counts().index.tolist()\n",
    "fig, ax = plt.subplots(figsize = (25, 10))\n",
    "sns.countplot(x = v_df['variety'], order = varieties, ax = ax, color = 'coral')\n",
    "plt.xticks(rotation = 90)\n",
    "plt.show()"
   ]
  },
  {
   "cell_type": "code",
   "execution_count": 16,
   "metadata": {
    "collapsed": true
   },
   "outputs": [],
   "source": [
    "filename = 'kmeansmodel1.pk'\n",
    "with open(filename, 'rb') as fh:\n",
    "   b = pickle.load(fh)"
   ]
  },
  {
   "cell_type": "code",
   "execution_count": 17,
   "metadata": {},
   "outputs": [
    {
     "name": "stdout",
     "output_type": "stream",
     "text": [
      "KMeans(algorithm='auto', copy_x=True, init='k-means++', max_iter=20,\n",
      "    n_clusters=12, n_init=10, n_jobs=1, precompute_distances='auto',\n",
      "    random_state=None, tol=0.0001, verbose=0)\n"
     ]
    }
   ],
   "source": [
    "print(b)"
   ]
  },
  {
   "cell_type": "code",
   "execution_count": 18,
   "metadata": {},
   "outputs": [
    {
     "data": {
      "text/plain": [
       "array([[ 2298, 10170, 15905, ..., 14407, 14409, 23914],\n",
       "       [ 4018, 15705,  3298, ..., 14678, 23642, 23914],\n",
       "       [ 2603,  8907, 13151, ..., 14012, 14013, 23914],\n",
       "       ..., \n",
       "       [ 2431,  6817, 21009, ..., 14201, 14202, 23914],\n",
       "       [ 2427,  4113,  8858, ..., 13242, 13241, 23914],\n",
       "       [ 1352, 12033, 12180, ..., 10438, 10437,  8026]])"
      ]
     },
     "execution_count": 18,
     "metadata": {},
     "output_type": "execute_result"
    }
   ],
   "source": [
    "model = b\n",
    "order_centroids= model.cluster_centers_.argsort()[:,::-1]\n",
    "order_centroids"
   ]
  },
  {
   "cell_type": "code",
   "execution_count": 19,
   "metadata": {},
   "outputs": [
    {
     "data": {
      "text/plain": [
       "TfidfVectorizer(analyzer='word', binary=False, decode_error='strict',\n",
       "        dtype=<class 'numpy.int64'>, encoding='utf-8', input='content',\n",
       "        lowercase=True, max_df=1.0, max_features=None, min_df=1,\n",
       "        ngram_range=(1, 1), norm='l2', preprocessor=None, smooth_idf=True,\n",
       "        stop_words='english', strip_accents=None, sublinear_tf=False,\n",
       "        token_pattern='(?u)\\\\b\\\\w\\\\w+\\\\b', tokenizer=None, use_idf=True,\n",
       "        vocabulary=None)"
      ]
     },
     "execution_count": 19,
     "metadata": {},
     "output_type": "execute_result"
    }
   ],
   "source": [
    "vectorizer = TfidfVectorizer(stop_words = 'english')\n",
    "vectorizer"
   ]
  },
  {
   "cell_type": "code",
   "execution_count": 24,
   "metadata": {},
   "outputs": [],
   "source": [
    "filename = 'vectorizer1.pk'\n",
    "with open(filename, 'rb') as fh:\n",
    "   c = pickle.load(fh)"
   ]
  },
  {
   "cell_type": "code",
   "execution_count": 25,
   "metadata": {},
   "outputs": [
    {
     "name": "stdout",
     "output_type": "stream",
     "text": [
      "Cluster 0\n",
      "berry\n",
      "herbal\n",
      "plum\n",
      "oak\n",
      "red\n",
      "earthy\n",
      "spicy\n",
      "spice\n",
      "oaky\n",
      "rubbery\n",
      "cassis\n",
      "baked\n",
      "Cluster 1\n",
      "chardonnay\n",
      "pineapple\n",
      "buttered\n",
      "toast\n",
      "vanilla\n",
      "oak\n",
      "tropical\n",
      "acidity\n",
      "sweet\n",
      "fruit\n",
      "creamy\n",
      "rich\n",
      "Cluster 2\n",
      "bodied\n",
      "full\n",
      "medium\n",
      "wine\n",
      "texture\n",
      "fruit\n",
      "cherry\n",
      "ripe\n",
      "oak\n",
      "black\n",
      "tannins\n",
      "red\n",
      "Cluster 3\n",
      "fruit\n",
      "wine\n",
      "cherry\n",
      "red\n",
      "oak\n",
      "light\n",
      "raspberry\n",
      "tannins\n",
      "vineyard\n",
      "acidity\n",
      "spice\n",
      "tart\n",
      "Cluster 4\n",
      "wine\n",
      "fruits\n",
      "wood\n",
      "drink\n",
      "tannins\n",
      "ripe\n",
      "aging\n",
      "acidity\n",
      "fruit\n",
      "rich\n",
      "firm\n",
      "age\n",
      "Cluster 5\n",
      "pinot\n",
      "noir\n",
      "cherry\n",
      "cola\n",
      "silky\n",
      "raspberry\n",
      "dry\n",
      "cherries\n",
      "acidity\n",
      "drink\n",
      "wine\n",
      "red\n",
      "Cluster 6\n",
      "cabernet\n",
      "sauvignon\n",
      "merlot\n",
      "blend\n",
      "franc\n",
      "verdot\n",
      "petit\n",
      "malbec\n",
      "black\n",
      "syrah\n",
      "cherry\n",
      "fruit\n",
      "Cluster 7\n",
      "wine\n",
      "acidity\n",
      "drink\n",
      "fruity\n",
      "crisp\n",
      "ready\n",
      "attractive\n",
      "fruits\n",
      "red\n",
      "soft\n",
      "light\n",
      "aftertaste\n",
      "Cluster 8\n",
      "black\n",
      "tannins\n",
      "cherry\n",
      "sangiovese\n",
      "opens\n",
      "pepper\n",
      "delivers\n",
      "spice\n",
      "red\n",
      "berry\n",
      "plum\n",
      "whiff\n",
      "Cluster 9\n",
      "blackberry\n",
      "dry\n",
      "tannins\n",
      "blackberries\n",
      "sweet\n",
      "oak\n",
      "rich\n",
      "wine\n",
      "currants\n",
      "cherries\n",
      "cabernet\n",
      "drink\n",
      "Cluster 10\n",
      "black\n",
      "cherry\n",
      "fruit\n",
      "dark\n",
      "pepper\n",
      "plum\n",
      "tannins\n",
      "wine\n",
      "blackberry\n",
      "spice\n",
      "chocolate\n",
      "dried\n",
      "Cluster 11\n",
      "apple\n",
      "lemon\n",
      "lime\n",
      "citrus\n",
      "peach\n",
      "riesling\n",
      "dry\n",
      "acidity\n",
      "fresh\n",
      "white\n",
      "green\n",
      "grapefruit\n",
      "\n",
      "\n",
      "Prediction\n",
      "[3]\n"
     ]
    }
   ],
   "source": [
    "true_k = 12\n",
    "vectorizer = c\n",
    "terms=vectorizer.get_feature_names()\n",
    "for i in range(true_k):\n",
    "    print(\"Cluster %d\" %i),\n",
    "    for ind in order_centroids[i,:12]:\n",
    "        print('%s'%terms[ind]),\n",
    "    print\n",
    "print(\"\\n\")\n",
    "print(\"Prediction\")\n",
    "Y=vectorizer.transform([\"zinfandel\"])\n",
    "prediction=model.predict(Y)\n",
    "print(prediction)"
   ]
  },
  {
   "cell_type": "code",
   "execution_count": 26,
   "metadata": {},
   "outputs": [
    {
     "name": "stderr",
     "output_type": "stream",
     "text": [
      "/Users/alexandriacabello/anaconda3/lib/python3.6/site-packages/ipykernel_launcher.py:1: SettingWithCopyWarning: \n",
      "A value is trying to be set on a copy of a slice from a DataFrame.\n",
      "Try using .loc[row_indexer,col_indexer] = value instead\n",
      "\n",
      "See the caveats in the documentation: http://pandas.pydata.org/pandas-docs/stable/indexing.html#indexing-view-versus-copy\n",
      "  \"\"\"Entry point for launching an IPython kernel.\n"
     ]
    }
   ],
   "source": [
    "v_df['cluster'] = model.labels_"
   ]
  },
  {
   "cell_type": "code",
   "execution_count": 27,
   "metadata": {
    "collapsed": true
   },
   "outputs": [],
   "source": [
    "clusters = v_df.groupby(['cluster', 'variety']).size()\n",
    "fig2, ax2 = plt.subplots(figsize = (30, 15))\n",
    "sns.heatmap(clusters.unstack(level = 'variety'), ax = ax2, cmap = 'Blues')\n",
    "\n",
    "ax2.set_ylabel('K-Clusters', fontdict = {'size': 20})\n",
    "ax2.set_xlabel('Wine Varieties', fontdict = {'size': 20})\n",
    "\n",
    "for label in ax2.get_xticklabels():\n",
    "    label.set_weight(\"bold\")\n",
    "    label.set_size(20)\n",
    "for label in ax2.get_yticklabels():\n",
    "    label.set_weight(\"bold\")\n",
    "    label.set_size(20)\n",
    "        "
   ]
  },
  {
   "cell_type": "code",
   "execution_count": 28,
   "metadata": {},
   "outputs": [
    {
     "data": {
      "image/png": "[encoded data removed]",
      "text/plain": [
       "<matplotlib.figure.Figure at 0x110a93320>"
      ]
     },
     "metadata": {},
     "output_type": "display_data"
    }
   ],
   "source": [
    "plt.show()"
   ]
  },
  {
   "cell_type": "code",
   "execution_count": null,
   "metadata": {
    "collapsed": true
   },
   "outputs": [],
   "source": []
  }
 ],
 "metadata": {
  "kernelspec": {
   "display_name": "Python 3",
   "language": "python",
   "name": "python3"
  },
  "language_info": {
   "codemirror_mode": {
    "name": "ipython",
    "version": 3
   },
   "file_extension": ".py",
   "mimetype": "text/x-python",
   "name": "python",
   "nbconvert_exporter": "python",
   "pygments_lexer": "ipython3",
   "version": "3.6.3"
  }
 },
 "nbformat": 4,
 "nbformat_minor": 2
}
