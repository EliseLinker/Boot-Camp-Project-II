{
 "cells": [
  {
   "cell_type": "code",
   "execution_count": 2,
   "metadata": {},
   "outputs": [],
   "source": [
    "#Dependencies for analysis with pandas and numpy\n",
    "import pandas as pd\n",
    "import numpy as np\n",
    "\n",
    "#Dependencies for graphs\n",
    "import seaborn as sns\n",
    "import matplotlib.pyplot as plt\n",
    "\n",
    "#Dependencies for plotly\n",
    "#import plotly.graph_objs as plotly\n",
    "#from plotly.offline import init_notebook_mode, iplot\n",
    "#init_notebook_mode(connected=True)\n",
    "\n",
    "#Dependencies for stat analysis with sklearn\n",
    "#from sklearn.feature_extraction.text import CountVectorizer \n",
    "#from sklearn.model_selection import train_test_split\n"
   ]
  },
  {
   "cell_type": "code",
   "execution_count": 3,
   "metadata": {
    "scrolled": true
   },
   "outputs": [
    {
     "data": {
      "text/html": [
       "<div>\n",
       "<style>\n",
       "    .dataframe thead tr:only-child th {\n",
       "        text-align: right;\n",
       "    }\n",
       "\n",
       "    .dataframe thead th {\n",
       "        text-align: left;\n",
       "    }\n",
       "\n",
       "    .dataframe tbody tr th {\n",
       "        vertical-align: top;\n",
       "    }\n",
       "</style>\n",
       "<table border=\"1\" class=\"dataframe\">\n",
       "  <thead>\n",
       "    <tr style=\"text-align: right;\">\n",
       "      <th></th>\n",
       "      <th>Unnamed: 0</th>\n",
       "      <th>country</th>\n",
       "      <th>description</th>\n",
       "      <th>designation</th>\n",
       "      <th>points</th>\n",
       "      <th>price</th>\n",
       "      <th>province</th>\n",
       "      <th>region_1</th>\n",
       "      <th>region_2</th>\n",
       "      <th>variety</th>\n",
       "      <th>winery</th>\n",
       "    </tr>\n",
       "  </thead>\n",
       "  <tbody>\n",
       "    <tr>\n",
       "      <th>0</th>\n",
       "      <td>0</td>\n",
       "      <td>US</td>\n",
       "      <td>This tremendous 100% varietal wine hails from ...</td>\n",
       "      <td>Martha's Vineyard</td>\n",
       "      <td>96</td>\n",
       "      <td>235.0</td>\n",
       "      <td>California</td>\n",
       "      <td>Napa Valley</td>\n",
       "      <td>Napa</td>\n",
       "      <td>Cabernet Sauvignon</td>\n",
       "      <td>Heitz</td>\n",
       "    </tr>\n",
       "    <tr>\n",
       "      <th>1</th>\n",
       "      <td>1</td>\n",
       "      <td>Spain</td>\n",
       "      <td>Ripe aromas of fig, blackberry and cassis are ...</td>\n",
       "      <td>Carodorum Selección Especial Reserva</td>\n",
       "      <td>96</td>\n",
       "      <td>110.0</td>\n",
       "      <td>Northern Spain</td>\n",
       "      <td>Toro</td>\n",
       "      <td>NaN</td>\n",
       "      <td>Tinta de Toro</td>\n",
       "      <td>Bodega Carmen Rodríguez</td>\n",
       "    </tr>\n",
       "    <tr>\n",
       "      <th>2</th>\n",
       "      <td>2</td>\n",
       "      <td>US</td>\n",
       "      <td>Mac Watson honors the memory of a wine once ma...</td>\n",
       "      <td>Special Selected Late Harvest</td>\n",
       "      <td>96</td>\n",
       "      <td>90.0</td>\n",
       "      <td>California</td>\n",
       "      <td>Knights Valley</td>\n",
       "      <td>Sonoma</td>\n",
       "      <td>Sauvignon Blanc</td>\n",
       "      <td>Macauley</td>\n",
       "    </tr>\n",
       "    <tr>\n",
       "      <th>3</th>\n",
       "      <td>3</td>\n",
       "      <td>US</td>\n",
       "      <td>This spent 20 months in 30% new French oak, an...</td>\n",
       "      <td>Reserve</td>\n",
       "      <td>96</td>\n",
       "      <td>65.0</td>\n",
       "      <td>Oregon</td>\n",
       "      <td>Willamette Valley</td>\n",
       "      <td>Willamette Valley</td>\n",
       "      <td>Pinot Noir</td>\n",
       "      <td>Ponzi</td>\n",
       "    </tr>\n",
       "    <tr>\n",
       "      <th>4</th>\n",
       "      <td>4</td>\n",
       "      <td>France</td>\n",
       "      <td>This is the top wine from La Bégude, named aft...</td>\n",
       "      <td>La Brûlade</td>\n",
       "      <td>95</td>\n",
       "      <td>66.0</td>\n",
       "      <td>Provence</td>\n",
       "      <td>Bandol</td>\n",
       "      <td>NaN</td>\n",
       "      <td>Provence red blend</td>\n",
       "      <td>Domaine de la Bégude</td>\n",
       "    </tr>\n",
       "  </tbody>\n",
       "</table>\n",
       "</div>"
      ],
      "text/plain": [
       "   Unnamed: 0 country                                        description  \\\n",
       "0           0      US  This tremendous 100% varietal wine hails from ...   \n",
       "1           1   Spain  Ripe aromas of fig, blackberry and cassis are ...   \n",
       "2           2      US  Mac Watson honors the memory of a wine once ma...   \n",
       "3           3      US  This spent 20 months in 30% new French oak, an...   \n",
       "4           4  France  This is the top wine from La Bégude, named aft...   \n",
       "\n",
       "                            designation  points  price        province  \\\n",
       "0                     Martha's Vineyard      96  235.0      California   \n",
       "1  Carodorum Selección Especial Reserva      96  110.0  Northern Spain   \n",
       "2         Special Selected Late Harvest      96   90.0      California   \n",
       "3                               Reserve      96   65.0          Oregon   \n",
       "4                            La Brûlade      95   66.0        Provence   \n",
       "\n",
       "            region_1           region_2             variety  \\\n",
       "0        Napa Valley               Napa  Cabernet Sauvignon   \n",
       "1               Toro                NaN       Tinta de Toro   \n",
       "2     Knights Valley             Sonoma     Sauvignon Blanc   \n",
       "3  Willamette Valley  Willamette Valley          Pinot Noir   \n",
       "4             Bandol                NaN  Provence red blend   \n",
       "\n",
       "                    winery  \n",
       "0                    Heitz  \n",
       "1  Bodega Carmen Rodríguez  \n",
       "2                 Macauley  \n",
       "3                    Ponzi  \n",
       "4     Domaine de la Bégude  "
      ]
     },
     "execution_count": 3,
     "metadata": {},
     "output_type": "execute_result"
    }
   ],
   "source": [
    "#Import data\n",
    "wine_df = pd.read_csv('winemag-data_first150k.csv')\n",
    "wine_df.head(5)"
   ]
  },
  {
   "cell_type": "code",
   "execution_count": 48,
   "metadata": {},
   "outputs": [
    {
     "name": "stderr",
     "output_type": "stream",
     "text": [
      "C:\\Users\\Grace\\Anaconda3\\lib\\site-packages\\ipykernel_launcher.py:2: UserWarning: \n",
      "This call to matplotlib.use() has no effect because the backend has already\n",
      "been chosen; matplotlib.use() must be called *before* pylab, matplotlib.pyplot,\n",
      "or matplotlib.backends is imported for the first time.\n",
      "\n",
      "The backend was *originally* set to 'module://ipykernel.pylab.backend_inline' by the following code:\n",
      "  File \"C:\\Users\\Grace\\Anaconda3\\lib\\runpy.py\", line 193, in _run_module_as_main\n",
      "    \"__main__\", mod_spec)\n",
      "  File \"C:\\Users\\Grace\\Anaconda3\\lib\\runpy.py\", line 85, in _run_code\n",
      "    exec(code, run_globals)\n",
      "  File \"C:\\Users\\Grace\\Anaconda3\\lib\\site-packages\\ipykernel_launcher.py\", line 16, in <module>\n",
      "    app.launch_new_instance()\n",
      "  File \"C:\\Users\\Grace\\Anaconda3\\lib\\site-packages\\traitlets\\config\\application.py\", line 658, in launch_instance\n",
      "    app.start()\n",
      "  File \"C:\\Users\\Grace\\Anaconda3\\lib\\site-packages\\ipykernel\\kernelapp.py\", line 477, in start\n",
      "    ioloop.IOLoop.instance().start()\n",
      "  File \"C:\\Users\\Grace\\Anaconda3\\lib\\site-packages\\zmq\\eventloop\\ioloop.py\", line 177, in start\n",
      "    super(ZMQIOLoop, self).start()\n",
      "  File \"C:\\Users\\Grace\\Anaconda3\\lib\\site-packages\\tornado\\ioloop.py\", line 888, in start\n",
      "    handler_func(fd_obj, events)\n",
      "  File \"C:\\Users\\Grace\\Anaconda3\\lib\\site-packages\\tornado\\stack_context.py\", line 277, in null_wrapper\n",
      "    return fn(*args, **kwargs)\n",
      "  File \"C:\\Users\\Grace\\Anaconda3\\lib\\site-packages\\zmq\\eventloop\\zmqstream.py\", line 440, in _handle_events\n",
      "    self._handle_recv()\n",
      "  File \"C:\\Users\\Grace\\Anaconda3\\lib\\site-packages\\zmq\\eventloop\\zmqstream.py\", line 472, in _handle_recv\n",
      "    self._run_callback(callback, msg)\n",
      "  File \"C:\\Users\\Grace\\Anaconda3\\lib\\site-packages\\zmq\\eventloop\\zmqstream.py\", line 414, in _run_callback\n",
      "    callback(*args, **kwargs)\n",
      "  File \"C:\\Users\\Grace\\Anaconda3\\lib\\site-packages\\tornado\\stack_context.py\", line 277, in null_wrapper\n",
      "    return fn(*args, **kwargs)\n",
      "  File \"C:\\Users\\Grace\\Anaconda3\\lib\\site-packages\\ipykernel\\kernelbase.py\", line 283, in dispatcher\n",
      "    return self.dispatch_shell(stream, msg)\n",
      "  File \"C:\\Users\\Grace\\Anaconda3\\lib\\site-packages\\ipykernel\\kernelbase.py\", line 235, in dispatch_shell\n",
      "    handler(stream, idents, msg)\n",
      "  File \"C:\\Users\\Grace\\Anaconda3\\lib\\site-packages\\ipykernel\\kernelbase.py\", line 399, in execute_request\n",
      "    user_expressions, allow_stdin)\n",
      "  File \"C:\\Users\\Grace\\Anaconda3\\lib\\site-packages\\ipykernel\\ipkernel.py\", line 196, in do_execute\n",
      "    res = shell.run_cell(code, store_history=store_history, silent=silent)\n",
      "  File \"C:\\Users\\Grace\\Anaconda3\\lib\\site-packages\\ipykernel\\zmqshell.py\", line 533, in run_cell\n",
      "    return super(ZMQInteractiveShell, self).run_cell(*args, **kwargs)\n",
      "  File \"C:\\Users\\Grace\\Anaconda3\\lib\\site-packages\\IPython\\core\\interactiveshell.py\", line 2698, in run_cell\n",
      "    interactivity=interactivity, compiler=compiler, result=result)\n",
      "  File \"C:\\Users\\Grace\\Anaconda3\\lib\\site-packages\\IPython\\core\\interactiveshell.py\", line 2802, in run_ast_nodes\n",
      "    if self.run_code(code, result):\n",
      "  File \"C:\\Users\\Grace\\Anaconda3\\lib\\site-packages\\IPython\\core\\interactiveshell.py\", line 2862, in run_code\n",
      "    exec(code_obj, self.user_global_ns, self.user_ns)\n",
      "  File \"<ipython-input-1-6e56192d13c2>\", line 6, in <module>\n",
      "    import seaborn as sns\n",
      "  File \"C:\\Users\\Grace\\Anaconda3\\lib\\site-packages\\seaborn\\__init__.py\", line 6, in <module>\n",
      "    from .rcmod import *\n",
      "  File \"C:\\Users\\Grace\\Anaconda3\\lib\\site-packages\\seaborn\\rcmod.py\", line 8, in <module>\n",
      "    from . import palettes, _orig_rc_params\n",
      "  File \"C:\\Users\\Grace\\Anaconda3\\lib\\site-packages\\seaborn\\palettes.py\", line 12, in <module>\n",
      "    from .utils import desaturate, set_hls_values, get_color_cycle\n",
      "  File \"C:\\Users\\Grace\\Anaconda3\\lib\\site-packages\\seaborn\\utils.py\", line 12, in <module>\n",
      "    import matplotlib.pyplot as plt\n",
      "  File \"C:\\Users\\Grace\\Anaconda3\\lib\\site-packages\\matplotlib\\pyplot.py\", line 69, in <module>\n",
      "    from matplotlib.backends import pylab_setup\n",
      "  File \"C:\\Users\\Grace\\Anaconda3\\lib\\site-packages\\matplotlib\\backends\\__init__.py\", line 14, in <module>\n",
      "    line for line in traceback.format_stack()\n",
      "\n",
      "\n",
      "  \n"
     ]
    }
   ],
   "source": [
    "import matplotlib\n",
    "matplotlib.use('nbagg')\n",
    "from matplotlib import style\n",
    "style.use('fivethirtyeight')\n",
    "#import matplotlib.pyplot as plt"
   ]
  },
  {
   "cell_type": "code",
   "execution_count": 37,
   "metadata": {},
   "outputs": [],
   "source": [
    "import sqlalchemy\n",
    "from sqlalchemy import create_engine, MetaData, inspect, func\n",
    "from sqlalchemy.ext.declarative import declarative_base\n",
    "from sqlalchemy import Column, Integer, String, Numeric, Text, Float\n",
    "from sqlalchemy.ext.automap import automap_base\n",
    "from sqlalchemy.orm import Session\n",
    "\n"
   ]
  },
  {
   "cell_type": "code",
   "execution_count": 17,
   "metadata": {},
   "outputs": [
    {
     "name": "stderr",
     "output_type": "stream",
     "text": [
      "rm: cannot remove 'wine.sqlite': Device or resource busy\n"
     ]
    }
   ],
   "source": [
    "!rm wine.sqlite "
   ]
  },
  {
   "cell_type": "code",
   "execution_count": 18,
   "metadata": {
    "collapsed": true
   },
   "outputs": [],
   "source": [
    "engine=create_engine(\"sqlite:///wine.sqlite\")"
   ]
  },
  {
   "cell_type": "code",
   "execution_count": 19,
   "metadata": {
    "collapsed": true
   },
   "outputs": [],
   "source": [
    "conn=engine.connect()"
   ]
  },
  {
   "cell_type": "code",
   "execution_count": 20,
   "metadata": {
    "collapsed": true
   },
   "outputs": [],
   "source": [
    "Base = declarative_base()"
   ]
  },
  {
   "cell_type": "code",
   "execution_count": 21,
   "metadata": {},
   "outputs": [],
   "source": [
    "class Wine(Base):\n",
    "    __tablename__='wine'\n",
    "    id = Column(Integer, primary_key=True)\n",
    "    country = Column(String)\n",
    "    description= Column(String)\n",
    "    designation= Column(String)\n",
    "    points= Column(Numeric)\n",
    "    price= Column(Numeric)\n",
    "    province= Column(String)\n",
    "    region_1= Column(String)\n",
    "    region_2= Column(String)\n",
    "    variety= Column(String)\n",
    "    winery= Column(String)\n",
    "    \n",
    "    def __repr__(self):\n",
    "        return f\"id={self.id}, description={self.description}\""
   ]
  },
  {
   "cell_type": "code",
   "execution_count": 22,
   "metadata": {
    "collapsed": true
   },
   "outputs": [],
   "source": [
    "Base.metadata.create_all(engine)"
   ]
  },
  {
   "cell_type": "code",
   "execution_count": 23,
   "metadata": {
    "collapsed": true
   },
   "outputs": [],
   "source": [
    "wine_data=wine_df.to_dict(orient='records')"
   ]
  },
  {
   "cell_type": "code",
   "execution_count": 24,
   "metadata": {},
   "outputs": [
    {
     "name": "stdout",
     "output_type": "stream",
     "text": [
      "[{'Unnamed: 0': 0, 'country': 'US', 'description': 'This tremendous 100% varietal wine hails from Oakville and was aged over three years in oak. Juicy red-cherry fruit and a compelling hint of caramel greet the palate, framed by elegant, fine tannins and a subtle minty tone in the background. Balanced and rewarding from start to finish, it has years ahead of it to develop further nuance. Enjoy 2022–2030.', 'designation': \"Martha's Vineyard\", 'points': 96, 'price': 235.0, 'province': 'California', 'region_1': 'Napa Valley', 'region_2': 'Napa', 'variety': 'Cabernet Sauvignon', 'winery': 'Heitz'}, {'Unnamed: 0': 1, 'country': 'Spain', 'description': 'Ripe aromas of fig, blackberry and cassis are softened and sweetened by a slathering of oaky chocolate and vanilla. This is full, layered, intense and cushioned on the palate, with rich flavors of chocolaty black fruits and baking spices. A toasty, everlasting finish is heady but ideally balanced. Drink through 2023.', 'designation': 'Carodorum Selección Especial Reserva', 'points': 96, 'price': 110.0, 'province': 'Northern Spain', 'region_1': 'Toro', 'region_2': nan, 'variety': 'Tinta de Toro', 'winery': 'Bodega Carmen Rodríguez'}, {'Unnamed: 0': 2, 'country': 'US', 'description': 'Mac Watson honors the memory of a wine once made by his mother in this tremendously delicious, balanced and complex botrytised white. Dark gold in color, it layers toasted hazelnut, pear compote and orange peel flavors, reveling in the succulence of its 122 g/L of residual sugar.', 'designation': 'Special Selected Late Harvest', 'points': 96, 'price': 90.0, 'province': 'California', 'region_1': 'Knights Valley', 'region_2': 'Sonoma', 'variety': 'Sauvignon Blanc', 'winery': 'Macauley'}, {'Unnamed: 0': 3, 'country': 'US', 'description': \"This spent 20 months in 30% new French oak, and incorporates fruit from Ponzi's Aurora, Abetina and Madrona vineyards, among others. Aromatic, dense and toasty, it deftly blends aromas and flavors of toast, cigar box, blackberry, black cherry, coffee and graphite. Tannins are polished to a fine sheen, and frame a finish loaded with dark chocolate and espresso. Drink now through 2032.\", 'designation': 'Reserve', 'points': 96, 'price': 65.0, 'province': 'Oregon', 'region_1': 'Willamette Valley', 'region_2': 'Willamette Valley', 'variety': 'Pinot Noir', 'winery': 'Ponzi'}, {'Unnamed: 0': 4, 'country': 'France', 'description': 'This is the top wine from La Bégude, named after the highest point in the vineyard at 1200 feet. It has structure, density and considerable acidity that is still calming down. With 18 months in wood, the wine has developing an extra richness and concentration. Produced by the Tari family, formerly of Château Giscours in Margaux, it is a wine made for aging. Drink from 2020.', 'designation': 'La Brûlade', 'points': 95, 'price': 66.0, 'province': 'Provence', 'region_1': 'Bandol', 'region_2': nan, 'variety': 'Provence red blend', 'winery': 'Domaine de la Bégude'}]\n"
     ]
    }
   ],
   "source": [
    "print(wine_data[:5])"
   ]
  },
  {
   "cell_type": "code",
   "execution_count": 27,
   "metadata": {
    "collapsed": true
   },
   "outputs": [],
   "source": [
    "metadata=MetaData(bind=engine)\n",
    "metadata.reflect()"
   ]
  },
  {
   "cell_type": "code",
   "execution_count": 28,
   "metadata": {
    "collapsed": true
   },
   "outputs": [],
   "source": [
    "table = sqlalchemy.Table('wine', metadata,autoload=True)"
   ]
  },
  {
   "cell_type": "code",
   "execution_count": 29,
   "metadata": {},
   "outputs": [
    {
     "data": {
      "text/plain": [
       "[(1, 'US', 'This tremendous 100% varietal wine hails from Oakville and was aged over three years in oak. Juicy red-cherry fruit and a compelling hint of caramel  ... (57 characters truncated) ... ubtle minty tone in the background. Balanced and rewarding from start to finish, it has years ahead of it to develop further nuance. Enjoy 2022–2030.', \"Martha's Vineyard\", 96, 235, 'California', 'Napa Valley', 'Napa', 'Cabernet Sauvignon', 'Heitz'),\n",
       " (2, 'Spain', 'Ripe aromas of fig, blackberry and cassis are softened and sweetened by a slathering of oaky chocolate and vanilla. This is full, layered, intense an ... (20 characters truncated) ... alate, with rich flavors of chocolaty black fruits and baking spices. A toasty, everlasting finish is heady but ideally balanced. Drink through 2023.', 'Carodorum Selección Especial Reserva', 96, 110, 'Northern Spain', 'Toro', None, 'Tinta de Toro', 'Bodega Carmen Rodríguez'),\n",
       " (3, 'US', 'Mac Watson honors the memory of a wine once made by his mother in this tremendously delicious, balanced and complex botrytised white. Dark gold in color, it layers toasted hazelnut, pear compote and orange peel flavors, reveling in the succulence of its 122 g/L of residual sugar.', 'Special Selected Late Harvest', 96, 90, 'California', 'Knights Valley', 'Sonoma', 'Sauvignon Blanc', 'Macauley'),\n",
       " (4, 'US', \"This spent 20 months in 30% new French oak, and incorporates fruit from Ponzi's Aurora, Abetina and Madrona vineyards, among others. Aromatic, dense  ... (88 characters truncated) ... herry, coffee and graphite. Tannins are polished to a fine sheen, and frame a finish loaded with dark chocolate and espresso. Drink now through 2032.\", 'Reserve', 96, 65, 'Oregon', 'Willamette Valley', 'Willamette Valley', 'Pinot Noir', 'Ponzi'),\n",
       " (5, 'France', 'This is the top wine from La Bégude, named after the highest point in the vineyard at 1200 feet. It has structure, density and considerable acidity t ... (78 characters truncated) ... extra richness and concentration. Produced by the Tari family, formerly of Château Giscours in Margaux, it is a wine made for aging. Drink from 2020.', 'La Brûlade', 95, 66, 'Provence', 'Bandol', None, 'Provence red blend', 'Domaine de la Bégude')]"
      ]
     },
     "execution_count": 29,
     "metadata": {},
     "output_type": "execute_result"
    }
   ],
   "source": [
    "conn.execute(table.insert(), wine_data)\n",
    "conn.execute(\"select * from wine limit 5\").fetchall()"
   ]
  },
  {
   "cell_type": "code",
   "execution_count": 32,
   "metadata": {},
   "outputs": [
    {
     "name": "stdout",
     "output_type": "stream",
     "text": [
      "id INTEGER\n",
      "country VARCHAR\n",
      "description VARCHAR\n",
      "designation VARCHAR\n",
      "points NUMERIC\n",
      "price NUMERIC\n",
      "province VARCHAR\n",
      "region_1 VARCHAR\n",
      "region_2 VARCHAR\n",
      "variety VARCHAR\n",
      "winery VARCHAR\n"
     ]
    }
   ],
   "source": [
    "inspector = inspect(engine)\n",
    "columns = inspector.get_columns('wine')\n",
    "for c in columns:\n",
    "    print (c['name'], c['type'])"
   ]
  },
  {
   "cell_type": "code",
   "execution_count": 42,
   "metadata": {},
   "outputs": [],
   "source": [
    "Base_auto = automap_base()\n",
    "Base_auto.prepare(engine, reflect=True)\n",
    "winebase=Base_auto.classes.wine\n"
   ]
  },
  {
   "cell_type": "code",
   "execution_count": 43,
   "metadata": {
    "collapsed": true
   },
   "outputs": [],
   "source": [
    "session=Session(engine)"
   ]
  },
  {
   "cell_type": "code",
   "execution_count": 44,
   "metadata": {
    "collapsed": true
   },
   "outputs": [],
   "source": [
    "wine_func = [winebase.country,\n",
    "            func.avg(winebase.points),\n",
    "            func.avg(winebase.price)]"
   ]
  },
  {
   "cell_type": "code",
   "execution_count": 45,
   "metadata": {
    "collapsed": true
   },
   "outputs": [],
   "source": [
    "wine_avg=session.query(*wine_func).group_by(winebase.country).order_by(winebase.country).all()"
   ]
  },
  {
   "cell_type": "code",
   "execution_count": 46,
   "metadata": {},
   "outputs": [
    {
     "data": {
      "text/plain": [
       "[(None, 84.6, 18.4),\n",
       " ('Albania', 88.0, 20.0),\n",
       " ('Argentina', 85.9960930562955, 20.794880973688922),\n",
       " ('Australia', 87.89247528747227, 31.258479771148345),\n",
       " ('Austria', 89.27674190382729, 31.192106322996377),\n",
       " ('Bosnia and Herzegovina', 84.75, 12.75),\n",
       " ('Brazil', 83.24, 19.92),\n",
       " ('Bulgaria', 85.46753246753246, 11.545454545454545),\n",
       " ('Canada', 88.23979591836735, 34.628865979381445),\n",
       " ('Chile', 86.29676753782668, 19.344779743322928),\n",
       " ('China', 82.0, 20.333333333333332),\n",
       " ('Croatia', 86.28089887640449, 23.10843373493976),\n",
       " ('Cyprus', 85.87096774193549, 15.483870967741936),\n",
       " ('Czech Republic', 85.83333333333333, 18.0),\n",
       " ('Egypt', 83.66666666666667, None),\n",
       " ('England', 92.88888888888889, 47.5),\n",
       " ('France', 88.92586975068727, 45.61988501859993),\n",
       " ('Georgia', 85.51162790697674, 18.58139534883721),\n",
       " ('Germany', 88.62642740619903, 39.011077971879),\n",
       " ('Greece', 86.11764705882354, 21.74770642201835),\n",
       " ('Hungary', 87.32900432900433, 44.20434782608696),\n",
       " ('India', 87.625, 13.875),\n",
       " ('Israel', 87.17619047619047, 31.304918032786887),\n",
       " ('Italy', 88.41366385552432, 37.54791311754685),\n",
       " ('Japan', 85.0, 24.0),\n",
       " ('Lebanon', 85.70270270270271, 25.43243243243243),\n",
       " ('Lithuania', 84.25, 10.0),\n",
       " ('Luxembourg', 87.0, 40.666666666666664),\n",
       " ('Macedonia', 84.8125, 15.3125),\n",
       " ('Mexico', 84.76190476190476, 29.095238095238095),\n",
       " ('Moldova', 84.71830985915493, 15.366197183098592),\n",
       " ('Montenegro', 82.0, 10.0),\n",
       " ('Morocco', 88.16666666666667, 18.833333333333332),\n",
       " ('New Zealand', 87.55421686746988, 24.173289902280132),\n",
       " ('Portugal', 88.05768508079669, 26.332614942528735),\n",
       " ('Romania', 84.92086330935251, 16.39568345323741),\n",
       " ('Serbia', 87.71428571428571, 24.285714285714285),\n",
       " ('Slovakia', 83.66666666666667, 15.333333333333334),\n",
       " ('Slovenia', 88.23404255319149, 28.061728395061728),\n",
       " ('South Africa', 87.22542072630647, 21.13053196244971),\n",
       " ('South Korea', 81.5, 13.5),\n",
       " ('Spain', 86.64658925979681, 27.048529411764704),\n",
       " ('Switzerland', 87.25, 26.5),\n",
       " ('Tunisia', 86.0, None),\n",
       " ('Turkey', 88.09615384615384, 25.8),\n",
       " ('US', 87.81878936487331, 33.65380839730282),\n",
       " ('US-France', 88.0, 50.0),\n",
       " ('Ukraine', 84.6, 13.0),\n",
       " ('Uruguay', 84.47826086956522, 25.847058823529412)]"
      ]
     },
     "execution_count": 46,
     "metadata": {},
     "output_type": "execute_result"
    }
   ],
   "source": [
    "wine_avg"
   ]
  },
  {
   "cell_type": "code",
   "execution_count": 47,
   "metadata": {},
   "outputs": [
    {
     "data": {
      "image/png": "[encoded data removed]",
      "text/plain": [
       "<matplotlib.figure.Figure at 0x238a61356d8>"
      ]
     },
     "metadata": {},
     "output_type": "display_data"
    }
   ],
   "source": [
    "df=pd.DataFrame(wine_avg, columns=[\"Country\",\"Avg_points\",\"Avg_price\"])\n",
    "df.set_index(\"Country\",inplace=True)\n",
    "df.plot.bar()\n",
    "plt.tight_layout()\n",
    "plt.show()"
   ]
  },
  {
   "cell_type": "code",
   "execution_count": null,
   "metadata": {
    "collapsed": true
   },
   "outputs": [],
   "source": []
  }
 ],
 "metadata": {
  "kernelspec": {
   "display_name": "Python 3",
   "language": "python",
   "name": "python3"
  },
  "language_info": {
   "codemirror_mode": {
    "name": "ipython",
    "version": 3
   },
   "file_extension": ".py",
   "mimetype": "text/x-python",
   "name": "python",
   "nbconvert_exporter": "python",
   "pygments_lexer": "ipython3",
   "version": "3.6.3"
  }
 },
 "nbformat": 4,
 "nbformat_minor": 2
}
